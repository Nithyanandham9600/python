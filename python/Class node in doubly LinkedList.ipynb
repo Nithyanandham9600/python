{
 "cells": [
  {
   "cell_type": "markdown",
   "id": "72cfb606",
   "metadata": {},
   "source": [
    "Class node in doubly LinkedList"
   ]
  },
  {
   "cell_type": "code",
   "execution_count": 2,
   "id": "d54dd4a9",
   "metadata": {},
   "outputs": [],
   "source": [
    "class Node:\n",
    "\tdef __init__(self, data):\n",
    "\t\tself.data = data\n",
    "\t\tself.prev = None\n",
    "\t\tself.next = None\n",
    "\n",
    "class DoublyLinkedList:\n",
    "\tdef __init__(self):\n",
    "\t\tself.head = None\n",
    "\n",
    "\tdef insert_end(self, data):\n",
    "\t\tnew_node = Node(data)\n",
    "\t\tif self.head is None:\n",
    "\t\t\tself.head = new_node\n",
    "\t\telse:\n",
    "\t\t\ttemp = self.head\n",
    "\t\t\twhile temp.next:\n",
    "\t\t\t\ttemp = temp.next\n",
    "\t\t\ttemp.next = new_node\n",
    "\t\t\tnew_node.prev = temp\n",
    "\n",
    "dll = DoublyLinkedList()\n",
    "dll.insert_end(10)\n",
    "dll.insert_end(20)"
   ]
  },
  {
   "cell_type": "markdown",
   "id": "1c8b1a4d",
   "metadata": {},
   "source": [
    "Forward and backward \n"
   ]
  },
  {
   "cell_type": "code",
   "execution_count": 4,
   "id": "7ce60151",
   "metadata": {},
   "outputs": [],
   "source": [
    "def display_forward(self):\n",
    "\ttemp = self.head\n",
    "\tprint(\"Forward:\")\n",
    "\twhile temp:\n",
    "\t\tprint(temp.data, end=\" \")\n",
    "\t\ttemp = temp.next\n",
    "\tprint(\"None\")\n",
    "\n",
    "def display_backward(self):\n",
    "\ttemp = self.head\n",
    "\tif temp is None:\n",
    "\t\tprint(\"List is empty\")\n",
    "\t\treturn\n",
    "\t\n",
    "\twhile temp.next:\n",
    "\t\ttemp = temp.next\n",
    "\tprint(\"Backward:\")\n",
    "\twhile temp:\n",
    "\t\tprint(temp.data, end=\" \")\n",
    "\t\ttemp = temp.prev\n",
    "\tprint(\"None\")"
   ]
  },
  {
   "cell_type": "markdown",
   "id": "6e833287",
   "metadata": {},
   "source": [
    "delete "
   ]
  },
  {
   "cell_type": "code",
   "execution_count": 6,
   "id": "df844eaf",
   "metadata": {},
   "outputs": [],
   "source": [
    "def delete(self, value):\n",
    "\ttemp = self.head\n",
    "\twhile temp:\n",
    "\t\tif temp.data == value:\n",
    "\t\t\tif temp.prev:\n",
    "\t\t\t\ttemp.prev.next = temp.next\n",
    "\t\t\telse:\n",
    "\t\t\t\tself.head = temp.next\n",
    "\t\t\tif temp.next:\n",
    "\t\t\t\ttemp.next.prev = temp.prev\n",
    "\t\t\treturn\n",
    "\t\ttemp = temp.next"
   ]
  },
  {
   "cell_type": "code",
   "execution_count": 8,
   "id": "ffc95475",
   "metadata": {},
   "outputs": [
    {
     "name": "stdout",
     "output_type": "stream",
     "text": [
      "Forward:\n",
      "10 20 30 None\n",
      "Backward:\n",
      "30 20 10 None\n",
      "After deleting 20:\n",
      "Forward:\n",
      "10 30 None\n"
     ]
    }
   ],
   "source": [
    "DoublyLinkedList.display_forward = display_forward\n",
    "DoublyLinkedList.display_backward = display_backward\n",
    "DoublyLinkedList.delete = delete\n",
    "\n",
    "dll.insert_end(30)\n",
    "dll.display_forward()\n",
    "dll.display_backward()\n",
    "dll.delete(20)\n",
    "print(\"After deleting 20:\")\n",
    "dll.display_forward()"
   ]
  }
 ],
 "metadata": {
  "kernelspec": {
   "display_name": "base",
   "language": "python",
   "name": "python3"
  },
  "language_info": {
   "codemirror_mode": {
    "name": "ipython",
    "version": 3
   },
   "file_extension": ".py",
   "mimetype": "text/x-python",
   "name": "python",
   "nbconvert_exporter": "python",
   "pygments_lexer": "ipython3",
   "version": "3.12.7"
  }
 },
 "nbformat": 4,
 "nbformat_minor": 5
}
